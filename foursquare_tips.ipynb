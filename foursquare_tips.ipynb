{
  "nbformat": 4,
  "nbformat_minor": 0,
  "metadata": {
    "colab": {
      "name": "Teste NLP Pagseguro - Eduarth Heinen",
      "provenance": [],
      "collapsed_sections": [],
      "authorship_tag": "ABX9TyO5eYF4mp+ZupaqtBpIAUw2",
      "include_colab_link": true
    },
    "kernelspec": {
      "name": "python3",
      "display_name": "Python 3"
    }
  },
  "cells": [
    {
      "cell_type": "markdown",
      "metadata": {
        "id": "view-in-github",
        "colab_type": "text"
      },
      "source": [
        "<a href=\"https://colab.research.google.com/github/eduartheinen/foursquare-tips/blob/master/foursquare_tips.ipynb\" target=\"_parent\"><img src=\"https://colab.research.google.com/assets/colab-badge.svg\" alt=\"Open In Colab\"/></a>"
      ]
    },
    {
      "cell_type": "code",
      "metadata": {
        "id": "44FLg7CDfD-g"
      },
      "source": [
        "!pip install -U pip setuptools wheel\n",
        "!pip install -U spacy\n",
        "!python -m spacy download pt_core_news_sm"
      ],
      "execution_count": null,
      "outputs": []
    },
    {
      "cell_type": "code",
      "metadata": {
        "id": "3r6-1fBl--hf"
      },
      "source": [
        "import re\n",
        "import string\n",
        "\n",
        "import pandas as pd\n",
        "from sklearn.feature_extraction.text import CountVectorizer, TfidfVectorizer\n",
        "from sklearn.feature_selection import chi2, SelectKBest\n",
        "from spacy.lang.pt import Portuguese\n",
        "from spacy.lang.pt.stop_words import STOP_WORDS"
      ],
      "execution_count": 2,
      "outputs": []
    },
    {
      "cell_type": "code",
      "metadata": {
        "id": "c_GEj9iqEw2i"
      },
      "source": [
        "class FoursquareTipsDataset:\n",
        "    def __init__(self, df, ngram_range=None):\n",
        "        self.reviews = [self.preprocess(s) for s in df.texto]\n",
        "        self.labels = df.rotulo\n",
        "\n",
        "        self.count_vectorizer = CountVectorizer(ngram_range=ngram_range,\n",
        "                                                stop_words=STOP_WORDS, \n",
        "                                                strip_accents='unicode')\n",
        "        self.bow = self.count_vectorizer.fit_transform(self.reviews)  # bag of words\n",
        "\n",
        "        self.tfidf_vectorizer = TfidfVectorizer(ngram_range=ngram_range, stop_words=STOP_WORDS)\n",
        "        self.tfidf = self.tfidf_vectorizer.fit_transform(self.reviews)\n",
        "\n",
        "    @staticmethod\n",
        "    def preprocess(text):\n",
        "      if type(text) != str:\n",
        "        print(f'houston {type(text)}')\n",
        "      punctuation_to_space = str.maketrans(string.punctuation, ' ' * len(string.punctuation))\n",
        "      text = text.translate(punctuation_to_space)  # change punctuations to spaces\n",
        "      text = re.sub('  +', ' ', text)  # removes double spaces\n",
        "      text = re.sub('\\d+', '', text)  # removes numbers\n",
        "      text = str.lower(text)  # to lowercase\n",
        "      # text = [unidecode(w) for w in text.split() if w not in STOP_WORDS]  # removes accent marks\n",
        "\n",
        "      return text\n",
        "\n",
        "    def __getitem__(self, i):\n",
        "        return self.reviews[i], self.labels[i], self.tfidf[i]\n",
        "\n",
        "    def __len__(self):\n",
        "        return len(self.sentences)"
      ],
      "execution_count": 15,
      "outputs": []
    },
    {
      "cell_type": "code",
      "metadata": {
        "id": "eREiy-EzJjjV"
      },
      "source": [
        "ch2 = SelectKBest(chi2, k=20)\n",
        "tmp = ch2.fit_transform(data.tfidf, data.labels)\n",
        "features = data.tfidf_vectorizer.get_feature_names()\n",
        "selected_features = [{features[i]: ch2.scores_[i]} for i in ch2.get_support(indices=True)]\n",
        "selected_features"
      ],
      "execution_count": null,
      "outputs": []
    },
    {
      "cell_type": "code",
      "metadata": {
        "id": "0NGwCTQM_BdK"
      },
      "source": [
        "ch2 = SelectKBest(chi2, k=20)\n",
        "class_indexes = data.labels[data.labels == 1]\n",
        "# tmp = ch2.fit_transform(data.reviews[class_indexes])\n",
        "# selected_features = [{features[i]: ch2.scores_[i]} for i in ch2.get_support(indices=True)]\n",
        "# selected_features"
      ],
      "execution_count": null,
      "outputs": []
    }
  ]
}